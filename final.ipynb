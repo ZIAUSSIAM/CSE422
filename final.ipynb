{
 "cells": [
  {
   "cell_type": "code",
   "execution_count": 169,
   "metadata": {
    "collapsed": true
   },
   "outputs": [
    {
     "data": {
      "text/plain": "Index(['Unnamed: 0', 'Track.Name', 'Artist.Name', 'Genre', 'Beats.Per.Minute',\n       'Energy', 'Danceability', 'Loudness..dB..', 'Liveness', 'Valence.',\n       'Length.', 'Acousticness..', 'Speechiness.', 'Popularity'],\n      dtype='object')"
     },
     "execution_count": 169,
     "metadata": {},
     "output_type": "execute_result"
    }
   ],
   "source": [
    "import pandas as pd\n",
    "import numpy as np\n",
    "import matplotlib.pyplot as plt\n",
    "import seaborn as sns\n",
    "\n",
    "#read the data from the csv\n",
    "df = pd.read_csv('top50.csv', encoding='ISO-8859-1')\n",
    "\n",
    "df.keys()\n"
   ]
  },
  {
   "cell_type": "code",
   "execution_count": 170,
   "outputs": [],
   "source": [
    "from sklearn.linear_model import LinearRegression\n",
    "from sklearn.model_selection import train_test_split\n",
    "\n",
    "\n",
    "model = LinearRegression()\n",
    "X = df[['Beats.Per.Minute','Energy', 'Danceability','Loudness..dB..',\n",
    "        'Liveness', 'Valence.', 'Acousticness..', 'Speechiness.']]\n",
    "y = df['Popularity']\n",
    "X_train, X_test, y_train, y_test = train_test_split(X,y, random_state=4)\n",
    "\n",
    "model.fit(X_train,y_train)\n",
    "predict_y = model.predict(X_test)"
   ],
   "metadata": {
    "collapsed": false,
    "pycharm": {
     "name": "#%%\n"
    }
   }
  },
  {
   "cell_type": "code",
   "execution_count": 171,
   "outputs": [
    {
     "data": {
      "text/plain": "<AxesSubplot:>"
     },
     "execution_count": 171,
     "metadata": {},
     "output_type": "execute_result"
    },
    {
     "data": {
      "text/plain": "<Figure size 432x288 with 1 Axes>",
      "image/png": "[encoded data removed]"
     },
     "metadata": {
      "needs_background": "light"
     },
     "output_type": "display_data"
    }
   ],
   "source": [
    "#pd.plotting.register_matplotlib_converters()\n",
    "#plt.figure(figsize=(16,6))\n",
    "\n",
    "sns.scatterplot(data=[predict_y,y_test.values])\n",
    "\n"
   ],
   "metadata": {
    "collapsed": false,
    "pycharm": {
     "name": "#%%\n"
    }
   }
  }
 ],
 "metadata": {
  "kernelspec": {
   "display_name": "Python 3",
   "language": "python",
   "name": "python3"
  },
  "language_info": {
   "codemirror_mode": {
    "name": "ipython",
    "version": 2
   },
   "file_extension": ".py",
   "mimetype": "text/x-python",
   "name": "python",
   "nbconvert_exporter": "python",
   "pygments_lexer": "ipython2",
   "version": "2.7.6"
  }
 },
 "nbformat": 4,
 "nbformat_minor": 0
}